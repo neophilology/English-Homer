{
 "cells": [
  {
   "cell_type": "code",
   "execution_count": 1,
   "metadata": {},
   "outputs": [
    {
     "name": "stderr",
     "output_type": "stream",
     "text": [
      "/Users/debr/anaconda3/envs/odyssey-nlp/lib/python3.11/site-packages/ebooklib/epub.py:1395: UserWarning: In the future version we will turn default option ignore_ncx to True.\n",
      "  warnings.warn('In the future version we will turn default option ignore_ncx to True.')\n",
      "/Users/debr/anaconda3/envs/odyssey-nlp/lib/python3.11/site-packages/ebooklib/epub.py:1423: FutureWarning: This search incorrectly ignores the root element, and will be fixed in a future version.  If you rely on the current behaviour, change it to './/xmlns:rootfile[@media-type]'\n",
      "  for root_file in tree.findall('//xmlns:rootfile[@media-type]', namespaces={'xmlns': NAMESPACES['CONTAINERNS']}):\n"
     ]
    },
    {
     "name": "stdout",
     "output_type": "stream",
     "text": [
      "Text extracted and saved to /Users/debr/Downloads/Odyssey_Buckley.txt\n"
     ]
    }
   ],
   "source": [
    "from ebooklib import epub\n",
    "from bs4 import BeautifulSoup\n",
    "\n",
    "# Function to extract text from EPUB\n",
    "def extract_text_from_epub(epub_path, txt_path):\n",
    "    book = epub.read_epub(epub_path)\n",
    "    text = []\n",
    "\n",
    "    for item in book.get_items():\n",
    "        if item.get_type() == 9:  # EPUB document type for text (typically HTML/XHTML)\n",
    "            soup = BeautifulSoup(item.content, \"html.parser\")\n",
    "            text.append(soup.get_text())\n",
    "\n",
    "    full_text = \"\\n\".join(text)\n",
    "\n",
    "    with open(txt_path, \"w\", encoding=\"utf-8\") as f:\n",
    "        f.write(full_text)\n",
    "    print(f\"Text extracted and saved to {txt_path}\")\n",
    "\n",
    "# Conversion\n",
    "filepath = \"/Users/debr/Downloads/The_Odyssey_with_the_hymns_epigrams_and.epub\"\n",
    "epub_file = filepath\n",
    "# save text file in the another directory\n",
    "\n",
    "txt_file = \"/Users/debr/Downloads/Odyssey_Buckley.txt\"\n",
    "extract_text_from_epub(epub_file, txt_file)"
   ]
  }
 ],
 "metadata": {
  "kernelspec": {
   "display_name": "odyssey-nlp",
   "language": "python",
   "name": "python3"
  },
  "language_info": {
   "codemirror_mode": {
    "name": "ipython",
    "version": 3
   },
   "file_extension": ".py",
   "mimetype": "text/x-python",
   "name": "python",
   "nbconvert_exporter": "python",
   "pygments_lexer": "ipython3",
   "version": "3.11.11"
  }
 },
 "nbformat": 4,
 "nbformat_minor": 2
}
