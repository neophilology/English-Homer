{
 "cells": [
  {
   "cell_type": "markdown",
   "metadata": {},
   "source": [
    "# Cleaned Odyssey's text from Peter Green's translation\n",
    "\n",
    "Solid and clean copy. Here are some characteristics. \n",
    "\n",
    "- Clean from origin\n",
    "    * no pagination or other in page marginalia\n",
    "    * no weid characters in text\n",
    "    * native digital version (no scan, OCR, etc)\n",
    "- Separated by books\n",
    "- Line number every five lines\n",
    "- Macron (¯) in long vowels (Ancient Greek quirk)\n",
    "- Dieresis (¨) in accented/pronounced vowels (Ancient Greek quirk)\n",
    "- Circumflex (^) in vowels with high and falling pitch (Ancient Greek quirk)\n",
    "- Superscripts for footnotes remain\n",
    "- Stripped from source indicatorat the end of each book, i.e., `footer line`: EBSCOhost: eBook Collection (EBSCOhost) printed on 3/7/2025 11:00:14 PM UTC via UNIVERSITAET TUEBINGEN. All use subject to https://www.ebsco.com/terms-of-use."
   ]
  },
  {
   "cell_type": "code",
   "execution_count": 1,
   "metadata": {},
   "outputs": [
    {
     "name": "stdout",
     "output_type": "stream",
     "text": [
      "Python, obey and print the end:\n",
      " obeyed, and was happy. A sworn\n",
      "545\n",
      "treaty for time to come was now made between both sides\n",
      "by Pallas Athēnē, daughter of aegis-bearing Zeus,\n",
      "likening herself to Mentōr, in both voice and appearance.\n",
      "\n"
     ]
    }
   ],
   "source": [
    "# Step 1: Remove everything before Green's first line\n",
    "# \"The man, Muse—tell me about that resourceful man, who wandered.\"\n",
    "filepath = \"/Users/debr/odysseys_en/raw_txts/Odyssey_Green.txt\"\n",
    "found_start = False\n",
    "filtered_lines = []\n",
    "\n",
    "with open(filepath, \"r\", encoding=\"utf-8\") as inputfile:\n",
    "    for line in inputfile:\n",
    "        stripped_line = line.strip()  # Remove leading/trailing spaces\n",
    "        # Skip empty lines\n",
    "        if not stripped_line:\n",
    "            continue\n",
    "            \n",
    "        if not found_start:\n",
    "            # Check for the book marker\n",
    "            if stripped_line.lower() == \"book 1\".lower():\n",
    "                found_start = True  # Start recording from now on\n",
    "                filtered_lines.append(line)  # Keep the starting line\n",
    "        else:\n",
    "            # Check if line contains EBSCOhost anywhere in the line (not just at start)\n",
    "            if \"ebscohost\" not in line.lower():\n",
    "                filtered_lines.append(line)\n",
    "\n",
    "# Step 2: Remove everything after Green's last line\n",
    "cleaned_lines = []\n",
    "end_marker = \"likening herself to Mentōr, in both voice and appearance.\"\n",
    "\n",
    "for line in filtered_lines:\n",
    "    # Add line to cleaned_lines\n",
    "    cleaned_lines.append(line)\n",
    "    \n",
    "    # Check if this line contains the end marker\n",
    "    if end_marker.lower() in line.lower():\n",
    "        break\n",
    "\n",
    "# Verify\n",
    "print(\"Python, obey and print the end:\")\n",
    "print(\"\".join(cleaned_lines)[-200:])"
   ]
  },
  {
   "cell_type": "code",
   "execution_count": 2,
   "metadata": {},
   "outputs": [],
   "source": [
    "# Write the cleaned content to a new file (optional)\n",
    "output_filepath = \"/Users/debr/odysseys_en/cleaned_txts/Odyssey_Green_cleaned.txt\"\n",
    "with open(output_filepath, \"w\", encoding=\"utf-8\") as outputfile:\n",
    "    outputfile.writelines(cleaned_lines)"
   ]
  },
  {
   "cell_type": "code",
   "execution_count": null,
   "metadata": {},
   "outputs": [],
   "source": []
  }
 ],
 "metadata": {
  "kernelspec": {
   "display_name": "odyssey-nlp",
   "language": "python",
   "name": "python3"
  },
  "language_info": {
   "codemirror_mode": {
    "name": "ipython",
    "version": 3
   },
   "file_extension": ".py",
   "mimetype": "text/x-python",
   "name": "python",
   "nbconvert_exporter": "python",
   "pygments_lexer": "ipython3",
   "version": "3.11.11"
  }
 },
 "nbformat": 4,
 "nbformat_minor": 2
}
