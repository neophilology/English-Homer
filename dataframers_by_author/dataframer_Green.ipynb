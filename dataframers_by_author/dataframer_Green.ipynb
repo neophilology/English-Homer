{
 "cells": [
  {
   "cell_type": "markdown",
   "metadata": {},
   "source": [
    "# Dataframer: Green's Odyssey to Pandas DF\n",
    "\n",
    "Here are some transformation and frequencies for future exploratory analysis of Green's Odyssey.\n",
    "\n",
    "Columns: author, year, title, book_num, text, num_lines, num_sentences, num_words, \n"
   ]
  },
  {
   "cell_type": "code",
   "execution_count": null,
   "metadata": {},
   "outputs": [
    {
     "ename": "SyntaxError",
     "evalue": "expression expected after dictionary key and ':' (503568903.py, line 1)",
     "output_type": "error",
     "traceback": [
      "  \u001b[36mCell\u001b[39m\u001b[36m \u001b[39m\u001b[32mIn[1]\u001b[39m\u001b[32m, line 1\u001b[39m\n\u001b[31m    \u001b[39m\u001b[31mbooks_first_lines = {'Book 1': ,\u001b[39m\n                                 ^\n\u001b[31mSyntaxError\u001b[39m\u001b[31m:\u001b[39m expression expected after dictionary key and ':'\n"
     ]
    }
   ],
   "source": [
    "books_first_lines = {\n",
    "    'Book 1': 'The man, Muse—tell me about that resourceful man, who wandered',\n",
    "    'Book 2': 'When Dawn appeared, early risen and rosy-fingered,',\n",
    "    'Book 3': 'Deserting the deep\\'s enchanting surface, the sun rose up',\n",
    "    'Book 4': 'Now they came to deep-hollowed Lakedaimōn with its ravines',\n",
    "    'Book 5': 'As Dawn arose from her bed beside illustrious Tithōnos,',\n",
    "    'Book 6': 'So Odysseus slept on there, godlike and much-enduring,',\n",
    "    'Book 7': 'So while Odysseus prayed there, godlike and much-enduring,',\n",
    "    'Book 8': 'When Dawn appeared, early risen and rosy-fingered,',\n",
    "    'Book 9': 'Then resourceful Odysseus responded to him, saying:',\n",
    "    'Book 10': '\"To the isle of Aiolia then we came, where was the dwelling',\n",
    "    'Book 11': '\"But when we came down to the ship and the sea, first off',\n",
    "    'Book 12': '\"After our ship left the course of Ocean\\'s river and came',\n",
    "    'Book 13': 'So he spoke: every one of them sat hushed and silent,',\n",
    "    'Book 14': 'But the rough path up from the harbor was that which Odysseus',\n",
    "    'Book 15': 'Now Pallas Athēnē was gone to spacious Lakedaimōn,',\n",
    "    'Book 16': 'The two in the hut, Odysseus and the noble swineherd,',\n",
    "    'Book 17': 'When Dawn appeared, early risen and rosy-fingered,',\n",
    "    'Book 18': 'Now there came up a public beggar, whose custom it was to beg',\n",
    "    'Book 19': 'But noble Odysseus bedded down for sleep in the forecourt.',\n",
    "    'Book 20': 'The goddess, grey-eyed Athēnē, now put it into the mind',\n",
    "    'Book 21': 'Now resourceful Odysseus stripped himself of his rags',\n",
    "    'Book 22': 'Chuckling, the old woman ascended to the upper chamber,',\n",
    "    'Book 23': 'The goddess, grey-eyed Athēnē, now put it into the mind',\n",
    "    'Book 24': 'Hermēs, god of Kyllēnē, now summoned forth the ghosts'\n",
    "}"
   ]
  },
  {
   "cell_type": "code",
   "execution_count": null,
   "metadata": {},
   "outputs": [],
   "source": []
  },
  {
   "cell_type": "code",
   "execution_count": null,
   "metadata": {},
   "outputs": [],
   "source": []
  },
  {
   "cell_type": "code",
   "execution_count": null,
   "metadata": {},
   "outputs": [],
   "source": [
    "# Basic usage - just set up parameters\n",
    "viz.setup_visualization_params()\n",
    "\n",
    "# Create a standard figure\n",
    "fig, ax = viz.create_figure()\n",
    "ax.plot([1, 2, 3], [4, 5, 6])\n",
    "ax.set_title(\"My Plot\")\n",
    "\n",
    "# Create a custom-sized figure\n",
    "fig, ax = viz.create_figure(width=16, height=9)\n",
    "\n",
    "# Easy access to your color palette\n",
    "plt.plot([1, 2, 3], [4, 5, 6], color=viz.COLORS[2])  # Use genoa color\n",
    "\n",
    "# Save with consistent parameters\n",
    "viz.save_figure(fig, \"my_analysis_plot.png\")"
   ]
  }
 ],
 "metadata": {
  "kernelspec": {
   "display_name": "odyssey-nlp",
   "language": "python",
   "name": "python3"
  },
  "language_info": {
   "codemirror_mode": {
    "name": "ipython",
    "version": 3
   },
   "file_extension": ".py",
   "mimetype": "text/x-python",
   "name": "python",
   "nbconvert_exporter": "python",
   "pygments_lexer": "ipython3",
   "version": "3.11.11"
  }
 },
 "nbformat": 4,
 "nbformat_minor": 2
}
