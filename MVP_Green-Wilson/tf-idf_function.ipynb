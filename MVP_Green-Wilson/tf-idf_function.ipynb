{
 "cells": [
  {
   "cell_type": "code",
   "execution_count": null,
   "metadata": {},
   "outputs": [],
   "source": [
    "from collections import Counter\n",
    "\n",
    "# Function to compute term frequency\n",
    "def term_freq_by_doc(list_of_tokens):\n",
    "    token_list = eval(list_of_tokens)  # Ensure tokens are treated as a list\n",
    "    term_counts = Counter(token_list)  # Count occurrences of each term\n",
    "    total_terms = len(token_list)  # Total number of terms in the document\n",
    "    \n",
    "    # Compute TF: term frequency for each token\n",
    "    term_freq = {term: count / total_terms for term, count in term_counts.items()}\n",
    "    \n",
    "    return term_freq, term_counts\n",
    "\n",
    "# Apply function to compute TF for each book\n",
    "df[\"term_freq\"], df[\"term_counts\"] = zip(*df[\"tokens\"].apply(term_freq_by_doc))\n",
    "\n",
    "# Get total number of documents (books)\n",
    "N = len(df)\n",
    "\n",
    "# Count how many documents contain each term\n",
    "doc_containing_term = Counter()\n",
    "for term_counts in df[\"term_freq\"]:\n",
    "    doc_containing_term.update(term_counts.keys())  # Count unique terms in each document\n",
    "\n",
    "# Compute IDF for each term\n",
    "idf_scores = {term: np.log(N / (1 + doc_count)) for term, doc_count in doc_containing_term.items()}  # Adding 1 to avoid division by zero\n",
    "\n",
    "# Add IDF column to df\n",
    "df[\"idf\"] = df[\"term_freq\"].apply(lambda term_freq: {term: idf_scores[term] for term in term_freq})\n",
    "\n",
    "\n",
    "# Compute TF-IDF by multiplying TF and IDF for each term in each document\n",
    "df[\"tf_idf\"] = df.apply(lambda row: {term: row[\"term_freq\"][term] * row[\"idf\"][term] for term in row[\"term_freq\"]}, axis=1)\n",
    "\n",
    "# Display results\n",
    "df"
   ]
  }
 ],
 "metadata": {
  "language_info": {
   "name": "python"
  }
 },
 "nbformat": 4,
 "nbformat_minor": 2
}
